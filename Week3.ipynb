{
 "cells": [
  {
   "cell_type": "code",
   "execution_count": null,
   "id": "f4962c2b",
   "metadata": {},
   "outputs": [],
   "source": [
    "# Viết một chương trình nhập vào một số nguyên n và in ra các chữ số đảo ngược nhau.\n",
    "n = int(input())\n",
    "tmp = n\n",
    "n = abs(n)\n",
    "m = 0\n",
    "while n > 0:\n",
    "    m = m * 10 + n % 10\n",
    "    n //= 10\n",
    "print(m if tmp >= 0 else -m)"
   ]
  },
  {
   "cell_type": "code",
   "execution_count": null,
   "id": "1ee18cee",
   "metadata": {},
   "outputs": [],
   "source": [
    "# Hoán đổi hai số không sd biến tạm thời\n",
    "# Sử dụng phép toán XOR bitwise để hoán đổi giá trị của hai biến.\n",
    "a, b = map(int, input().split())\n",
    "a = a ^ b\n",
    "b = a ^ b\n",
    "a = a ^ b\n",
    "print(a, b)"
   ]
  },
  {
   "cell_type": "code",
   "execution_count": null,
   "id": "62236b8c",
   "metadata": {},
   "outputs": [],
   "source": [
    "# Kiểm tra xem một số có phải là lũy thừa của 2 hay không\n",
    "# Sử dụng các toán tử bitwise để xác định xem một số có phải là lũy thừa của 2 hay không.\n",
    "n = int(input())\n",
    "print(n & (n-1) == 0)"
   ]
  },
  {
   "cell_type": "code",
   "execution_count": null,
   "id": "c84fb794",
   "metadata": {},
   "outputs": [],
   "source": [
    "# viêt chương trình chia một số m cho n, kết quả thu được làm tròn xuống\n",
    "m, n = map(int, input().split())\n",
    "print(m // n)"
   ]
  },
  {
   "cell_type": "code",
   "execution_count": null,
   "id": "62a4f432",
   "metadata": {},
   "outputs": [],
   "source": [
    "# viêt chương trình chia một số m cho n, kết quả thu được làm tròn lên\n",
    "m, n = map(int, input().split())\n",
    "print(round(m / n))"
   ]
  },
  {
   "cell_type": "code",
   "execution_count": null,
   "id": "7f23fa1f",
   "metadata": {},
   "outputs": [],
   "source": [
    "# [Even and Odd]\n",
    "x = int(input())\n",
    "print(\"Odd\" if x & 1 else \"Even\")"
   ]
  },
  {
   "cell_type": "code",
   "execution_count": null,
   "id": "6b0a5d37",
   "metadata": {},
   "outputs": [],
   "source": [
    "# [Check negative numbers]\n",
    "a, b = [int(input()) for i in range(0, 2)]\n",
    "print(\"Yes\" if a < 0 and b < 0 else \"No\")"
   ]
  },
  {
   "cell_type": "code",
   "execution_count": null,
   "id": "e653d793",
   "metadata": {},
   "outputs": [],
   "source": [
    "# [Longer string]\n",
    "a, b = [input() for i in range(0, 2)]\n",
    "print(len(a) > len(b))"
   ]
  },
  {
   "cell_type": "code",
   "execution_count": null,
   "id": "d53459e1",
   "metadata": {},
   "outputs": [],
   "source": [
    "# [Triangle]\n",
    "a, b, c = [int(input()) for i in range(0, 3)]\n",
    "print(\"Yes\" if a + b >= c and a + c >= b and b + c >= a else \"No\")"
   ]
  },
  {
   "cell_type": "code",
   "execution_count": null,
   "id": "16199fe2",
   "metadata": {},
   "outputs": [],
   "source": [
    "# [Largest number]\n",
    "a, b, c, d = [int(input()) for i in range(0, 4)]\n",
    "print(max(a, b, c, d))"
   ]
  },
  {
   "cell_type": "code",
   "execution_count": null,
   "id": "1482e8e5",
   "metadata": {},
   "outputs": [],
   "source": [
    "# [Phân loại tam giác]\n",
    "a, b, c = map(int, input().split())\n",
    "if a + b <= c or a + c <= b or b + c <= a:\n",
    "    print(\"Không phải tam giác\")\n",
    "elif a == b or a == c or b == c:\n",
    "    if a == b == c:\n",
    "        print(\"Tam giác đều\")\n",
    "    else:\n",
    "        print(\"Tam giác cân\")\n",
    "else:\n",
    "    print(\"Tam giác thường\")"
   ]
  },
  {
   "cell_type": "code",
   "execution_count": null,
   "id": "32fc7b2f",
   "metadata": {},
   "outputs": [],
   "source": [
    "# [Kiểm tra năm nhuận]\n",
    "n = int(input())\n",
    "if (n % 4 == 0 and n % 100 != 0) or (n % 400 == 0):\n",
    "    print(\"Yes\")\n",
    "else:\n",
    "    print(\"No\")"
   ]
  },
  {
   "cell_type": "code",
   "execution_count": null,
   "id": "cd4d265f",
   "metadata": {},
   "outputs": [],
   "source": [
    "# [Tính tiền điện]\n",
    "n = int(input())\n",
    "if n <= 50:\n",
    "    print(n * 1500)\n",
    "elif 50 < n <= 100:\n",
    "    print(1500 * 50 + (n - 50) * 2000)\n",
    "else:\n",
    "    print(3500 * 50 + (n - 100) * 3000)"
   ]
  },
  {
   "cell_type": "code",
   "execution_count": null,
   "id": "5709d053",
   "metadata": {},
   "outputs": [],
   "source": [
    "# [Giải phương trình bậc nhất]\n",
    "a, b = [float(input()) for i in range(0, 2)]\n",
    "if a == 0 and b != 0:\n",
    "    print(\"Vô nghiệm\")\n",
    "elif a == 0 and b == 0:\n",
    "    print(\"Vô số nghiệm\")\n",
    "else:\n",
    "    print(f\"{-b / a:.2f}\")"
   ]
  },
  {
   "cell_type": "code",
   "execution_count": null,
   "id": "c0e308a7",
   "metadata": {},
   "outputs": [],
   "source": [
    "# [Xếp loại học lực]\n",
    "n = float(input())\n",
    "print(\"Giỏi\" if n >= 8.0 else \"Khá\" if n >= 6.5 else \"Trung bình\" if n >= 5.0 else \"Yếu\")"
   ]
  },
  {
   "cell_type": "code",
   "execution_count": null,
   "id": "f95f6a0a",
   "metadata": {},
   "outputs": [],
   "source": [
    "# [Rounding]\n",
    "n = float(input())\n",
    "m = int(n)\n",
    "if(n == m):\n",
    "    print(m, m, m)\n",
    "    raise SystemExit\n",
    "rem = abs(n - m)\n",
    "if n < 0:\n",
    "    print(m, m - 1, m if rem < 0.5 else m - 1)\n",
    "else:\n",
    "    print(m + 1, m, m if rem < 0.5 else m + 1)"
   ]
  }
 ],
 "metadata": {
  "kernelspec": {
   "display_name": "Python 3",
   "language": "python",
   "name": "python3"
  },
  "language_info": {
   "codemirror_mode": {
    "name": "ipython",
    "version": 3
   },
   "file_extension": ".py",
   "mimetype": "text/x-python",
   "name": "python",
   "nbconvert_exporter": "python",
   "pygments_lexer": "ipython3",
   "version": "3.13.7"
  }
 },
 "nbformat": 4,
 "nbformat_minor": 5
}
