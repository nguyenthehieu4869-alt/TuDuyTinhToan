{
 "cells": [
  {
   "cell_type": "code",
   "execution_count": null,
   "id": "2b788592",
   "metadata": {},
   "outputs": [],
   "source": [
    "n=int(input())\n",
    "print(2*n)"
   ]
  },
  {
   "cell_type": "code",
   "execution_count": null,
   "id": "22be5e31",
   "metadata": {},
   "outputs": [],
   "source": [
    "a=float(input(\"Chiều rộng của mảnh vườn là:\"))\n",
    "b=float(input(\"Chiều dài của mảnh vườn là:\"))\n",
    "print(f\"Phần diện tích còn lại để trồng hoa là:{a*b-3.14*(a/2)**2:.2f}\")"
   ]
  },
  {
   "cell_type": "code",
   "execution_count": null,
   "id": "51e4d521",
   "metadata": {},
   "outputs": [],
   "source": [
    "letter=input()\n",
    "if ord(letter)>=97:\n",
    " print(chr(ord(letter)-32))\n",
    "else: print(chr(ord(letter)+32)) "
   ]
  },
  {
   "cell_type": "code",
   "execution_count": null,
   "id": "f9dee079",
   "metadata": {},
   "outputs": [],
   "source": [
    "c=input()\n",
    "if c.isalpha()==True:\n",
    " print(f\"{c} là chữ cái\")\n",
    "else:\n",
    " print(f\"{c} không phải là chữ cái\") "
   ]
  },
  {
   "cell_type": "code",
   "execution_count": null,
   "id": "1d70117b",
   "metadata": {},
   "outputs": [],
   "source": [
    "A = input()\n",
    "if ord(A) == ord('A'):\n",
    "    print(\"Không tồn tại chữ cái trước a\")\n",
    "else:\n",
    "    print(f\"Chữ cái trước {chr(ord(A) - (ord('A') - ord('a')))} là {chr(ord(A) - (ord('A') - ord('a')) - 1)}\")"
   ]
  },
  {
   "cell_type": "code",
   "execution_count": null,
   "id": "0bd1b8fc",
   "metadata": {},
   "outputs": [],
   "source": [
    "from math import sqrt\n",
    "a, b, c = map(int, input().split())\n",
    "if a + b > c and a + c > b and b + c > a:\n",
    "    p = (a + b + c) / 2\n",
    "    s = sqrt(p * (p - a) * (p - b) * (p - c))\n",
    "    print(round(s, 1))\n",
    "else:\n",
    "    print(\"Khong phai 3 canh cua tam giac\")"
   ]
  },
  {
   "cell_type": "code",
   "execution_count": null,
   "id": "7279010d",
   "metadata": {},
   "outputs": [],
   "source": [
    "c = input()\n",
    "print(c[4], c[8])"
   ]
  },
  {
   "cell_type": "code",
   "execution_count": null,
   "id": "bff4d244",
   "metadata": {},
   "outputs": [],
   "source": [
    "ten = input(\"Ten chu ho: \")\n",
    "cs1 = int(input(\"Chi so thang truoc: \"))\n",
    "cs2 = int(input(\"Chi so thang nay: \"))\n",
    "cs = cs2 - cs1\n",
    "result = 0\n",
    "tien = [1984, 2050, 2380, 2998, 3350, 3460]\n",
    "moc = [0, 50, 100, 200, 300, 400]\n",
    "i = 0\n",
    "while(i < 5 and cs > (moc[i + 1] - moc[i])):\n",
    "    result += tien[i] * (moc[i + 1] - moc[i])\n",
    "    cs -= (moc[i + 1] - moc[i])\n",
    "    i += 1\n",
    "result += cs * tien[i]\n",
    "print(\"Ho va ten: \" + ten)\n",
    "print(\"Tien phai tra la:\", int(round(result * (1 + 0.08), 0)))"
   ]
  },
  {
   "cell_type": "code",
   "execution_count": null,
   "id": "382aee0f",
   "metadata": {},
   "outputs": [],
   "source": [
    "# 1\n",
    "n = int(input())\n",
    "print(\"chan\" if n % 2 == 0 else \"le\")"
   ]
  },
  {
   "cell_type": "code",
   "execution_count": null,
   "id": "eb359fb4",
   "metadata": {},
   "outputs": [],
   "source": [
    "# 2\n",
    "n = int(input())\n",
    "print(n % 10 == 5)"
   ]
  },
  {
   "cell_type": "code",
   "execution_count": null,
   "id": "26f1f51c",
   "metadata": {},
   "outputs": [],
   "source": [
    "# 3\n",
    "n = int(input())\n",
    "print(n % 3 == 0 and n % 5 == 0)"
   ]
  },
  {
   "cell_type": "code",
   "execution_count": null,
   "id": "d2add1b7",
   "metadata": {},
   "outputs": [],
   "source": [
    "# 4\n",
    "from datetime import datetime\n",
    "today = datetime.today()\n",
    "birth_day = int(input(\"Ngay sinh: \"))\n",
    "birth_month = int(input(\"Thang sinh: \"))\n",
    "birth_year = int(input(\"Nam sinh: \"))\n",
    "years = today.year - birth_year\n",
    "if (birth_month, birth_day) > (today.month, today.day):\n",
    "    years -= 1\n",
    "print(\"Yes\" if years >= 18 else \"No\")"
   ]
  },
  {
   "cell_type": "code",
   "execution_count": null,
   "id": "7935622b",
   "metadata": {},
   "outputs": [],
   "source": [
    "# 5\n",
    "import math\n",
    "a, b = map(float, input().split())\n",
    "if math.isclose(a, b):\n",
    "    print(\"Bang nhau\")\n",
    "else:\n",
    "    print(max(a, b))"
   ]
  },
  {
   "cell_type": "code",
   "execution_count": null,
   "id": "0f58f916",
   "metadata": {},
   "outputs": [],
   "source": [
    "# 6\n",
    "n = input()\n",
    "try:\n",
    "    int(n)\n",
    "    print(\"Số\")\n",
    "except ValueError:\n",
    "    print(\"Chữ cái\")"
   ]
  },
  {
   "cell_type": "code",
   "execution_count": null,
   "id": "3de92de3",
   "metadata": {},
   "outputs": [],
   "source": [
    "# 7\n",
    "n = float(input())\n",
    "print(\"Giỏi\" if n >= 8.0 else \"Khá\" if n >= 6.5 else \"Trung bình\" if n >= 5.0 else \"Yếu\")"
   ]
  },
  {
   "cell_type": "code",
   "execution_count": null,
   "id": "e0fd1726",
   "metadata": {},
   "outputs": [],
   "source": [
    "# 8\n",
    "n = int(input())\n",
    "if (n % 4 == 0 and n % 100 != 0) or (n % 400 == 0):\n",
    "    print(\"Năm nhuận\")\n",
    "else:\n",
    "    print(\"Không phải năm nhuận\")"
   ]
  },
  {
   "cell_type": "code",
   "execution_count": null,
   "id": "dade15ae",
   "metadata": {},
   "outputs": [],
   "source": [
    "# 9\n",
    "x = int(input())\n",
    "match x:\n",
    "    case 0:\n",
    "        print(\"Không\")\n",
    "    case 1:\n",
    "        print(\"Một\")\n",
    "    case 2:\n",
    "        print(\"Hai\")\n",
    "    case 3:\n",
    "        print(\"Ba\")\n",
    "    case 4:\n",
    "        print(\"Bốn\")\n",
    "    case 5:\n",
    "        print(\"Năm\")\n",
    "    case 6:\n",
    "        print(\"Sáu\")\n",
    "    case 7:\n",
    "        print(\"Bảy\")\n",
    "    case 8:\n",
    "        print(\"Tám\")\n",
    "    case 9:\n",
    "        print(\"Chín\")"
   ]
  },
  {
   "cell_type": "code",
   "execution_count": null,
   "id": "89eac8d5",
   "metadata": {},
   "outputs": [],
   "source": [
    "# 11\n",
    "from datetime import datetime\n",
    "today = datetime.today()\n",
    "birth_day = int(input(\"Ngay sinh: \"))\n",
    "birth_month = int(input(\"Thang sinh: \"))\n",
    "birth_year = int(input(\"Nam sinh: \"))\n",
    "years = today.year - birth_year\n",
    "if (birth_month, birth_day) > (today.month, today.day):\n",
    "    years -= 1\n",
    "print(\"Yes\" if years >= 18 else \"No\")"
   ]
  }
 ],
 "metadata": {
  "kernelspec": {
   "display_name": "Python 3",
   "language": "python",
   "name": "python3"
  },
  "language_info": {
   "codemirror_mode": {
    "name": "ipython",
    "version": 3
   },
   "file_extension": ".py",
   "mimetype": "text/x-python",
   "name": "python",
   "nbconvert_exporter": "python",
   "pygments_lexer": "ipython3",
   "version": "3.13.7"
  }
 },
 "nbformat": 4,
 "nbformat_minor": 5
}
