{
 "cells": [
  {
   "cell_type": "code",
   "execution_count": null,
   "id": "47bcbeb4",
   "metadata": {},
   "outputs": [],
   "source": [
    "print(\"Hello World\")"
   ]
  },
  {
   "cell_type": "code",
   "execution_count": null,
   "id": "cb802f6e",
   "metadata": {},
   "outputs": [],
   "source": [
    "name = input(\"What's your name?\\n\")\n",
    "print(\"Hello,\", name)"
   ]
  },
  {
   "cell_type": "code",
   "execution_count": null,
   "id": "85625976",
   "metadata": {},
   "outputs": [],
   "source": [
    "a, b = map(int, input().split())\n",
    "print(a + b, a - b, a * b, a // b, a % b)"
   ]
  },
  {
   "cell_type": "code",
   "execution_count": null,
   "id": "cc551a1b",
   "metadata": {},
   "outputs": [],
   "source": [
    "a1, b1, c1, a2, b2, a3 = map(float, input().split())\n",
    "result = ((a1 + b1 + c1) + (a2 + b2) * 2 + a3 * 3) / 10\n",
    "print(f\"{result:.1f}\")"
   ]
  },
  {
   "cell_type": "code",
   "execution_count": null,
   "id": "f6cafde1",
   "metadata": {},
   "outputs": [],
   "source": [
    "a, b = map(int, input().split())\n",
    "print(a ** b)"
   ]
  },
  {
   "cell_type": "code",
   "execution_count": null,
   "id": "849ac7f2",
   "metadata": {},
   "outputs": [],
   "source": [
    "a = input()\n",
    "print(ord(a))\n",
    "print(chr(ord(a) + ord('A') - ord('a')))"
   ]
  },
  {
   "cell_type": "code",
   "execution_count": null,
   "id": "aa359d06",
   "metadata": {},
   "outputs": [],
   "source": [
    "a = ((13 ** 2) * 3) + 5\n",
    "b = 13**2*3 + 5\n",
    "print(a, b)"
   ]
  },
  {
   "cell_type": "code",
   "execution_count": null,
   "id": "8ccce805",
   "metadata": {},
   "outputs": [],
   "source": [
    "c = float(input())\n",
    "f = 9 / 5 * c + 32\n",
    "print(f\"{f:.2f}\")"
   ]
  },
  {
   "cell_type": "code",
   "execution_count": null,
   "id": "0fe4230d",
   "metadata": {},
   "outputs": [],
   "source": [
    "x = float(input())\n",
    "x = (x + 10) * (1 + 0.4)\n",
    "print(f\"{x:.2f}\")"
   ]
  },
  {
   "cell_type": "code",
   "execution_count": null,
   "id": "215b8618",
   "metadata": {},
   "outputs": [],
   "source": [
    "a, b, c = input().split()\n",
    "print(c, b, a)"
   ]
  },
  {
   "cell_type": "code",
   "execution_count": null,
   "id": "360793ba",
   "metadata": {},
   "outputs": [],
   "source": [
    "a, b = map(int, input().split())\n",
    "print(a * 3600, b * 60)"
   ]
  },
  {
   "cell_type": "code",
   "execution_count": null,
   "id": "a08b1b68",
   "metadata": {},
   "outputs": [],
   "source": [
    "n = int(input())\n",
    "print(n ** 2 * 6)"
   ]
  },
  {
   "cell_type": "code",
   "execution_count": null,
   "id": "b7bf611e",
   "metadata": {},
   "outputs": [],
   "source": [
    "a, b = map(int, input().split())\n",
    "print(a * b % 10)"
   ]
  },
  {
   "cell_type": "code",
   "execution_count": null,
   "id": "d529f34c",
   "metadata": {},
   "outputs": [],
   "source": [
    "a, b = map(int, input().split())\n",
    "a, b = b, a\n",
    "print(a, b)"
   ]
  },
  {
   "cell_type": "code",
   "execution_count": null,
   "id": "99577652",
   "metadata": {},
   "outputs": [],
   "source": [
    "n = int(input())\n",
    "print(6 * n * (n - 1) + 1)"
   ]
  },
  {
   "cell_type": "code",
   "execution_count": null,
   "id": "abdb3888",
   "metadata": {},
   "outputs": [],
   "source": [
    "print(\"Spring\\nSummer\\nAutumn\\nWinter\")"
   ]
  },
  {
   "cell_type": "code",
   "execution_count": null,
   "id": "4c43b268",
   "metadata": {},
   "outputs": [],
   "source": [
    "print(\"*\")\n",
    "print(\"***\")\n",
    "print(\"*****\")"
   ]
  },
  {
   "cell_type": "code",
   "execution_count": null,
   "id": "0dda54b5",
   "metadata": {},
   "outputs": [],
   "source": [
    "print(\"### ###   ### ###\")\n",
    "print(\" #  #  #   #   #\")\n",
    "print(\" #  #   #  #   #\")\n",
    "print(\" #  #  #   #   #\")\n",
    "print(\" #  ###    #   #\")"
   ]
  },
  {
   "cell_type": "code",
   "execution_count": null,
   "id": "ac0a3605",
   "metadata": {},
   "outputs": [],
   "source": [
    "print(\"Monday\\nTuesday\\nWednesday\\nThursday\\nFriday\\nSaturday\\nSunday\")"
   ]
  },
  {
   "cell_type": "code",
   "execution_count": null,
   "id": "13b47825",
   "metadata": {},
   "outputs": [],
   "source": [
    "print(\"January\\nFebruary\\nMarch\\nApril\\nMay\\nJune\\nJuly\\nAugust\\nSeptember\\nOctober\\nNovember\\nDecember\")"
   ]
  },
  {
   "cell_type": "code",
   "execution_count": null,
   "id": "109df165",
   "metadata": {},
   "outputs": [],
   "source": [
    "for i in range(1, 10):\n",
    "    print(\"Hello, world\")"
   ]
  }
 ],
 "metadata": {
  "kernelspec": {
   "display_name": "Python 3",
   "language": "python",
   "name": "python3"
  },
  "language_info": {
   "codemirror_mode": {
    "name": "ipython",
    "version": 3
   },
   "file_extension": ".py",
   "mimetype": "text/x-python",
   "name": "python",
   "nbconvert_exporter": "python",
   "pygments_lexer": "ipython3",
   "version": "3.13.7"
  }
 },
 "nbformat": 4,
 "nbformat_minor": 5
}
