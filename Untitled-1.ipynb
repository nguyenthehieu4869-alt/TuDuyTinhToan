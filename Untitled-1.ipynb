{
 "cells": [
  {
   "cell_type": "code",
   "execution_count": null,
   "id": "47bcbeb4",
   "metadata": {},
   "outputs": [],
   "source": [
    "print(\"Hello World\")"
   ]
  },
  {
   "cell_type": "code",
   "execution_count": null,
   "id": "da76be27",
   "metadata": {},
   "outputs": [],
   "source": [
    "name=input()\n",
    "print(\"xin chào\",name)"
   ]
  },
  {
   "cell_type": "code",
   "execution_count": null,
   "id": "dd61f624",
   "metadata": {},
   "outputs": [],
   "source": [
    "#Tổng\n",
    "a=int(input())\n",
    "b=int(input())\n",
    "c=a+b\n",
    "print(c)\n",
    "#Hiệu\n"
   ]
  }
 ],
 "metadata": {
  "kernelspec": {
   "display_name": "Python 3",
   "language": "python",
   "name": "python3"
  },
  "language_info": {
   "codemirror_mode": {
    "name": "ipython",
    "version": 3
   },
   "file_extension": ".py",
   "mimetype": "text/x-python",
   "name": "python",
   "nbconvert_exporter": "python",
   "pygments_lexer": "ipython3",
   "version": "3.13.7"
  }
 },
 "nbformat": 4,
 "nbformat_minor": 5
}
