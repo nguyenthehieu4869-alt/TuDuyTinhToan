{
 "cells": [
  {
   "cell_type": "code",
   "execution_count": null,
   "id": "f14cd917",
   "metadata": {},
   "outputs": [],
   "source": [
    "n=int(input())\n",
    "Sum=0\n",
    "for i in range(1,n+1):\n",
    "  Sum += i\n",
    "print(Sum)"
   ]
  },
  {
   "cell_type": "code",
   "execution_count": null,
   "id": "ed63ed56",
   "metadata": {},
   "outputs": [],
   "source": [
    "n = int(input())\n",
    "while n <= 0 :\n",
    "   n = int(input())\n",
    "m = 0\n",
    "for num in range (2,int(n**0.5+1)):\n",
    "    if n % num == 0:\n",
    "        m += 1\n",
    "if m == 0 and n > 1:\n",
    "    print(f\"{n} là số nguyên tố\")\n",
    "else:\n",
    "    print(f\"{n} không là số nguyên tố\")                 "
   ]
  },
  {
   "cell_type": "code",
   "execution_count": null,
   "id": "b4abca75",
   "metadata": {},
   "outputs": [],
   "source": [
    "n = int(input())\n",
    "m = n\n",
    "for i in range (n-1, 0, -1) :\n",
    " n *= i\n",
    "print (f\"giai thừa của {m} là {n}\")"
   ]
  },
  {
   "cell_type": "code",
   "execution_count": null,
   "id": "c133a852",
   "metadata": {},
   "outputs": [],
   "source": [
    "n = int(input())\n",
    "n = abs(n)\n",
    "count = 0\n",
    "if n == 0 :\n",
    "    count = 1   \n",
    "else :\n",
    "    while n > 0 :\n",
    "        n //= 10\n",
    "        count += 1\n",
    "print (count)         "
   ]
  },
  {
   "cell_type": "code",
   "execution_count": null,
   "id": "9ba58498",
   "metadata": {},
   "outputs": [],
   "source": [
    "n = int(input())\n",
    "while n <= 0:\n",
    "    n = int(input())\n",
    "day_so = []\n",
    "for i in range (n) :\n",
    "    day_so.append(int(input(f\"Nhập vào số thứ {i+1}: \")))\n",
    "if 42 in day_so :\n",
    "    print(\"i've found the meaning of life\")\n",
    "else :\n",
    "    print(\"it's a joke!\")\n",
    "\n"
   ]
  },
  {
   "cell_type": "code",
   "execution_count": null,
   "id": "0ae0defe",
   "metadata": {},
   "outputs": [],
   "source": [
    "def Prime_check(n):\n",
    "    m = 0\n",
    "    for i in range (2, int(n**0.5+1)):\n",
    "        if n % i == 0:\n",
    "            m += 1\n",
    "    if m != 0:\n",
    "        return False\n",
    "    return True\n",
    "a, b = map(int, input().split())\n",
    "Sum = 0\n",
    "if a == b and Prime_check(a):\n",
    "    Sum = a\n",
    "else:    \n",
    "    for i in range (a, b+1):\n",
    "        if Prime_check(i):\n",
    "            Sum += i\n",
    "print(Sum)\n",
    "\n",
    "\n",
    "\n"
   ]
  },
  {
   "cell_type": "code",
   "execution_count": null,
   "id": "d9b8c2db",
   "metadata": {},
   "outputs": [],
   "source": [
    "def Prime_check(n):\n",
    "    for i in range (2, int(n**0.5+1)):\n",
    "        if n % i == 0:\n",
    "            return False\n",
    "    return True\n",
    "n = int(input())\n",
    "for i in range (n, 2, -1):\n",
    "    if n % i == 0 and Prime_check(i):\n",
    "        n = i\n",
    "        break\n",
    "print(n)\n"
   ]
  },
  {
   "cell_type": "code",
   "execution_count": null,
   "id": "45a2d79f",
   "metadata": {},
   "outputs": [],
   "source": [
    "def palindrome(n):\n",
    "    return n == n[::-1]\n",
    "n = input()\n",
    "cnt = 0\n",
    "while (palindrome(n) == False):\n",
    "    n = str(int(n) + int(n[::-1]))\n",
    "    cnt += 1\n",
    "print(cnt, n)"
   ]
  },
  {
   "cell_type": "code",
   "execution_count": null,
   "id": "d5bd1626",
   "metadata": {},
   "outputs": [],
   "source": [
    "n=int(input())\n",
    "i=1\n",
    "r=[]\n",
    "while i*i<=n:\n",
    "    s=str(i*i)\n",
    "    if len(s)==len(set(s)):\n",
    "        r.append(s)\n",
    "    i+=1\n",
    "\n",
    "if r:\n",
    "    print(\" \".join(r))\n",
    "else:\n",
    "    print(\"no number\")"
   ]
  },
  {
   "cell_type": "code",
   "execution_count": null,
   "id": "56b71e75",
   "metadata": {},
   "outputs": [],
   "source": [
    "n=int(input())\n",
    "def collatzlen(x):\n",
    "    len=1\n",
    "    while x!=1:\n",
    "        if x%2==0:\n",
    "            x=x//2\n",
    "        else:\n",
    "            x=3*x+1\n",
    "        len+=1\n",
    "    return len\n",
    "\n",
    "maxlen=0\n",
    "so=0\n",
    "for i in range(1,n):\n",
    "    l=collatzlen(i)\n",
    "    if l>maxlen:\n",
    "        maxlen=l\n",
    "        so=i\n",
    "print(so,maxlen)"
   ]
  },
  {
   "cell_type": "code",
   "execution_count": null,
   "id": "8be2ea33",
   "metadata": {},
   "outputs": [],
   "source": [
    "n = int(input())\n",
    "cnt = 0\n",
    "for i in range(1, n+1):\n",
    "    if n % i == 0 and i % 2 == 0:\n",
    "        cnt += 1\n",
    "print(cnt)\n",
    "\n"
   ]
  },
  {
   "cell_type": "code",
   "execution_count": null,
   "id": "b59e3679",
   "metadata": {},
   "outputs": [],
   "source": [
    "a = int(input(\"Nhập vào số tiền gốc: \"))\n",
    "b = int(input(\"Nhập vào số tháng: \"))\n",
    "print(int(a * (1 + 0.007) ** b))"
   ]
  },
  {
   "cell_type": "code",
   "execution_count": null,
   "id": "70b834a5",
   "metadata": {},
   "outputs": [],
   "source": [
    "def sum_fac(n):\n",
    "    cnt = 0\n",
    "    for i in range (1, n):\n",
    "        if n % i == 0:\n",
    "            cnt += i\n",
    "    return cnt\n",
    "a, b = eval(input())\n",
    "if a == sum_fac(b) and b == sum_fac(a):\n",
    "    print(\"true\")\n",
    "else:\n",
    "    print(\"false\")\n",
    "    "
   ]
  },
  {
   "cell_type": "code",
   "execution_count": null,
   "id": "4bef4415",
   "metadata": {},
   "outputs": [],
   "source": [
    "def fac_checking(n):\n",
    "    for i in range (n, 0, -1):\n",
    "        if n % i == 0:\n",
    "            return i\n",
    "a, b = eval(input())\n",
    "for i in range (a, 0, -1):\n",
    "    if fac_checking(a) == fac_checking(b):\n",
    "        break\n",
    "print(i)    "
   ]
  },
  {
   "cell_type": "code",
   "execution_count": null,
   "id": "6404d000",
   "metadata": {},
   "outputs": [],
   "source": [
    "a, b = eval(input())\n",
    "for i in range (a, 0, -1):\n",
    "    if a % i == 0 and b % i == 0:\n",
    "        break\n",
    "print(i)"
   ]
  },
  {
   "cell_type": "code",
   "execution_count": null,
   "id": "1a3d1e56",
   "metadata": {},
   "outputs": [],
   "source": [
    "a = int(input(\"Nhập vào tổng số con: \"))\n",
    "b = int(input(\"Nhập vào tổng số chân: \"))\n",
    "x = 2*a - b/2\n",
    "y = b/2 - a\n",
    "if x == int(x) and y == int(y):\n",
    "    print(f\"sô gà là: {int(x)}\", f\"số chó là: {int(y)}\", sep = \"\\n\")\n",
    "else:\n",
    "    print(\"invalid\")\n"
   ]
  },
  {
   "cell_type": "code",
   "execution_count": null,
   "id": "b5d2d19c",
   "metadata": {},
   "outputs": [],
   "source": [
    "for i in range (98, 3, -2):\n",
    "    if i % 2 == 0 and i % 3 == 0:\n",
    "        print(i)"
   ]
  },
  {
   "cell_type": "code",
   "execution_count": null,
   "id": "43711da3",
   "metadata": {},
   "outputs": [],
   "source": [
    "a = int(input())\n",
    "for i in range (1, 11):\n",
    "    b = a * i\n",
    "    print(f\"{a}*{i}={b}\")"
   ]
  },
  {
   "cell_type": "code",
   "execution_count": null,
   "id": "0fea2a5d",
   "metadata": {},
   "outputs": [],
   "source": [
    "a, b = eval(input())\n",
    "for i in range (a, 0, -1):\n",
    "    if a % i == 0 and b % i == 0:\n",
    "        print(i)"
   ]
  },
  {
   "cell_type": "code",
   "execution_count": null,
   "id": "f456a5f6",
   "metadata": {},
   "outputs": [],
   "source": [
    "n = int(input())\n",
    "while n >= 2:\n",
    "    if n % 2 == 0:\n",
    "        print(n)\n",
    "        n -= 2\n",
    "    else:\n",
    "        n -= 1"
   ]
  },
  {
   "cell_type": "code",
   "execution_count": null,
   "id": "ef9c983d",
   "metadata": {},
   "outputs": [],
   "source": [
    "from math import *\n",
    "n = int(input())\n",
    "if log(n, 2) == int(log(n, 2)):\n",
    "    print(f\"Số {n} có dạng 2^k\")\n",
    "else:\n",
    "    print(f\"{n} không có dạng 2^k\")"
   ]
  },
  {
   "cell_type": "code",
   "execution_count": null,
   "id": "5d0f236c",
   "metadata": {},
   "outputs": [],
   "source": [
    "n = int(input())\n",
    "Sum = 0\n",
    "for i in str(n)[:]:\n",
    "    Sum += int(i)\n",
    "print(Sum)"
   ]
  },
  {
   "cell_type": "code",
   "execution_count": null,
   "id": "1a9bff25",
   "metadata": {},
   "outputs": [],
   "source": [
    "n = int(input())\n",
    "Evens = 0\n",
    "Odds = 0\n",
    "for i in str(n)[:]:\n",
    "    if int(i) % 2 != 0:\n",
    "        Odds += 1\n",
    "    else:\n",
    "        Evens += 1\n",
    "print(f\"số chữ số chẵn là: {Evens}\",f\"số chữ số lẻ là: {Odds}\", sep = \"\\n\")\n"
   ]
  },
  {
   "cell_type": "code",
   "execution_count": null,
   "id": "5fe06d29",
   "metadata": {},
   "outputs": [],
   "source": [
    "n = int(input())\n",
    "Sum = 0\n",
    "for i in range (1, n):\n",
    "    if Sum < n :\n",
    "        Sum += i\n",
    "    else:\n",
    "        break\n",
    "print(i-2)\n",
    "\n"
   ]
  },
  {
   "cell_type": "code",
   "execution_count": null,
   "id": "0f6d49d4",
   "metadata": {},
   "outputs": [],
   "source": [
    "A = int(input())\n",
    "m = 0\n",
    "Sum = 0\n",
    "while Sum <= A:\n",
    "    m += 1\n",
    "    Sum += 1/m\n",
    "print(m)\n",
    "    \n"
   ]
  },
  {
   "cell_type": "code",
   "execution_count": null,
   "id": "e88b6ae7",
   "metadata": {},
   "outputs": [],
   "source": [
    "n = int(input())\n",
    "lst = []\n",
    "while n != -1:\n",
    "    lst.append(n)\n",
    "    n = int(input())\n",
    "print(f\"Số lớn nhất là: {max(lst)}\",f\"Số bé nhất là: {min(lst)}\", sep = \"\\n\")"
   ]
  },
  {
   "cell_type": "code",
   "execution_count": null,
   "id": "9e87be73",
   "metadata": {},
   "outputs": [],
   "source": [
    "A = int(input())\n",
    "a, b = 1, 1\n",
    "while b <= A:\n",
    "    a, b = b, a + b\n",
    "print(a)"
   ]
  },
  {
   "cell_type": "code",
   "execution_count": null,
   "id": "206f5db4",
   "metadata": {},
   "outputs": [],
   "source": [
    "s=input().strip()\n",
    "count=0\n",
    "for i, ch in enumerate(s):\n",
    "    if i == 0:\n",
    "        if ch != ' ':\n",
    "            count += 1\n",
    "    else:\n",
    "        if ch != ' ' and s[i-1] == ' ':\n",
    "            count += 1\n",
    "print(count)"
   ]
  },
  {
   "cell_type": "code",
   "execution_count": null,
   "id": "62761e87",
   "metadata": {},
   "outputs": [],
   "source": [
    "s=input().strip()\n",
    "\n",
    "for i in range(len(s)):\n",
    "    if s[i]==' ':\n",
    "        print(s[:i])\n",
    "        break\n",
    "else:\n",
    "    print(s)"
   ]
  },
  {
   "cell_type": "code",
   "execution_count": null,
   "id": "12132840",
   "metadata": {},
   "outputs": [],
   "source": [
    "a,b,c=map(int,input().split(\", \"))\n",
    "print(a+b+c)"
   ]
  },
  {
   "cell_type": "code",
   "execution_count": null,
   "id": "1a4d99a5",
   "metadata": {},
   "outputs": [],
   "source": [
    "s=input().strip()\n",
    "upper=0\n",
    "lower=0\n",
    "digit=0\n",
    "for i in s:\n",
    "    if i.isupper():\n",
    "        upper+=1\n",
    "    elif i.islower():\n",
    "        lower+=1\n",
    "    elif i.isdigit():\n",
    "        digit+=1\n",
    "print(upper,lower,digit)\n"
   ]
  },
  {
   "cell_type": "code",
   "execution_count": null,
   "id": "d7763f6c",
   "metadata": {},
   "outputs": [],
   "source": [
    "s=input().strip()\n",
    "tong=0\n",
    "for i in s:\n",
    "    if i.isdigit():\n",
    "        tong+=int(i)\n",
    "print(tong)"
   ]
  },
  {
   "cell_type": "code",
   "execution_count": null,
   "id": "7685307a",
   "metadata": {},
   "outputs": [],
   "source": [
    "s=input()\n",
    "ktr_so=False\n",
    "ktr_thuong=False\n",
    "ktr_hoa=False\n",
    "ktr_db=False\n",
    "for i in range (len(s)):\n",
    "    if 'A' <= s[i] <= 'Z':\n",
    "        ktr_hoa=True\n",
    "    elif 'a' <= s[i] <= 'z':\n",
    "        ktr_thuong=True\n",
    "    elif '0' <= s[i] <= '9':\n",
    "        ktr_so = True\n",
    "    else:\n",
    "        ktr_db= True\n",
    "if ktr_db and ktr_hoa and ktr_thuong and ktr_so and len(s)>6:\n",
    "    print(\"Mật khẩu mạnh\")\n",
    "else:\n",
    "    print(\"Mật khẩu yếu\")\n",
    "     "
   ]
  },
  {
   "cell_type": "code",
   "execution_count": null,
   "id": "adad027b",
   "metadata": {},
   "outputs": [],
   "source": [
    "n=int(input())\n",
    "s=str(n)[::-1]\n",
    "scocham=\"\"\n",
    "for i in range(len(s)):\n",
    "    if i>0 and i%3==0:\n",
    "        scocham+=\".\"\n",
    "    scocham+=s[i]\n",
    "print(scocham[::-1])"
   ]
  },
  {
   "cell_type": "code",
   "execution_count": null,
   "id": "2d18c9a0",
   "metadata": {},
   "outputs": [],
   "source": [
    "a=input().strip()\n",
    "b=input().strip()\n",
    "index=a.find(b)\n",
    "if index!=-1:\n",
    "    a=a[:index]+a[index+len(b):]\n",
    "print(a)"
   ]
  }
 ],
 "metadata": {
  "kernelspec": {
   "display_name": "Python 3",
   "language": "python",
   "name": "python3"
  },
  "language_info": {
   "codemirror_mode": {
    "name": "ipython",
    "version": 3
   },
   "file_extension": ".py",
   "mimetype": "text/x-python",
   "name": "python",
   "nbconvert_exporter": "python",
   "pygments_lexer": "ipython3",
   "version": "3.13.7"
  }
 },
 "nbformat": 4,
 "nbformat_minor": 5
}
